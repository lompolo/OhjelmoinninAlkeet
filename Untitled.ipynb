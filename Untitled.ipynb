{
 "cells": [
  {
   "cell_type": "code",
   "execution_count": 6,
   "metadata": {},
   "outputs": [],
   "source": [
    "teksti = \"asiahan on niin, että ohjelmointi on hauskaa kunnes javascript tapahtuu - sen jälkeen putoat loputtomaan tyhjyyteen. Mutta python\""
   ]
  },
  {
   "cell_type": "code",
   "execution_count": 8,
   "metadata": {},
   "outputs": [
    {
     "name": "stdout",
     "output_type": "stream",
     "text": [
      "Toksi\n"
     ]
    }
   ],
   "source": [
    "if \"python\" in teksti and \"ohjelmointi\" in teksti:\n",
    "    print(\"Toksi\")\n",
    "else:\n",
    "    print(\"Epätosi\")"
   ]
  },
  {
   "cell_type": "code",
   "execution_count": 4,
   "metadata": {},
   "outputs": [
    {
     "name": "stdout",
     "output_type": "stream",
     "text": [
      "Epätosi\n"
     ]
    }
   ],
   "source": [
    "if teksti.count(\"python\") > 0 and teksti.count(\"ohjelmointi\" ) > 0:\n",
    "    print(\"Tosi\")\n",
    "else:\n",
    "    print(\"Epätosi\")"
   ]
  },
  {
   "cell_type": "code",
   "execution_count": 7,
   "metadata": {},
   "outputs": [
    {
     "name": "stdout",
     "output_type": "stream",
     "text": [
      "Tosi\n"
     ]
    }
   ],
   "source": [
    "if teksti.count(\"python\") > 0 and teksti.count(\"ohjelmointi\" ) > 0:\n",
    "    print(\"Tosi\")\n",
    "else:\n",
    "    print(\"Epätosi\")"
   ]
  },
  {
   "cell_type": "code",
   "execution_count": null,
   "metadata": {},
   "outputs": [],
   "source": []
  }
 ],
 "metadata": {
  "kernelspec": {
   "display_name": "Python 3",
   "language": "python",
   "name": "python3"
  },
  "language_info": {
   "codemirror_mode": {
    "name": "ipython",
    "version": 3
   },
   "file_extension": ".py",
   "mimetype": "text/x-python",
   "name": "python",
   "nbconvert_exporter": "python",
   "pygments_lexer": "ipython3",
   "version": "3.7.7"
  }
 },
 "nbformat": 4,
 "nbformat_minor": 4
}
